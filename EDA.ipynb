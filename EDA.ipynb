{
 "cells": [
  {
   "cell_type": "markdown",
   "metadata": {},
   "source": [
    "# Content Based 3d Model Retrieval"
   ]
  },
  {
   "cell_type": "markdown",
   "metadata": {},
   "source": [
    "###  feedback to be addressed from udacity"
   ]
  },
  {
   "cell_type": "markdown",
   "metadata": {},
   "source": [
    "\n",
    "The dataset(s) and/or input(s) to be used in the project are thoroughly described. Information such as how the dataset or input is (was) obtained, and the characteristics of the dataset or input, should be included. It should be clear how the dataset(s) or input(s) will be used in the project and whether their use is appropriate given the context of the problem.\n",
    "\n",
    "Could you briefly discuss the nature of this dataset? How many objects are contained? What is the distribution of labels?"
   ]
  },
  {
   "cell_type": "markdown",
   "metadata": {},
   "source": [
    "Look at the data. Taken from: http://modelnet.cs.princeton.edu/\n",
    "\n",
    "This data is in Object File Format (.off) There exist matlab tools to process these. Are they available in python? "
   ]
  },
  {
   "cell_type": "markdown",
   "metadata": {},
   "source": [
    "##### off files are ascii\n",
    "\n",
    "make sure when writing you use\n",
    "https://stackoverflow.com/questions/46850103/writing-to-files-in-ascii-with-python3-not-utf8"
   ]
  },
  {
   "cell_type": "markdown",
   "metadata": {},
   "source": [
    "### How are voxels counted? \n",
    "http://vision.princeton.edu/projects/2014/3DShapeNets/paper.pdf\n",
    "\n",
    "```\n",
    "To study 3D shape representation, we propose to represent\n",
    "a geometric 3D shape as a probability distribution of\n",
    "binary variables on a 3D voxel grid. Each 3D mesh is represented\n",
    "as a binary tensor: 1 indicates the voxel is inside the\n",
    "mesh surface, and 0 indicates the voxel is outside the mesh\n",
    "(i.e., it is empty space). The grid size in our experiments is\n",
    "30 × 30 × 30.\n",
    "```"
   ]
  },
  {
   "cell_type": "code",
   "execution_count": 14,
   "metadata": {},
   "outputs": [],
   "source": [
    "import matplotlib.pyplot as plt\n",
    "%matplotlib inline\n",
    "import numpy as np\n",
    "\n",
    "from off_utils import (check_header,\n",
    "                       parse_vertices_faces_edges,\n",
    "                       load_off_file,\n",
    "                       parse_coordinates,\n",
    "                       parse_face_indeces)\n",
    "\n",
    "a = load_off_file('sample.off')\n",
    "coordinates = parse_coordinates(a)\n",
    "face_indeces = parse_face_indeces(a)"
   ]
  },
  {
   "cell_type": "code",
   "execution_count": 2,
   "metadata": {},
   "outputs": [
    {
     "data": {
      "text/plain": [
       "array([[-0.5, -0.5,  0.5],\n",
       "       [ 0.5, -0.5,  0.5],\n",
       "       [-0.5,  0.5,  0.5],\n",
       "       [ 0.5,  0.5,  0.5],\n",
       "       [-0.5,  0.5, -0.5],\n",
       "       [ 0.5,  0.5, -0.5],\n",
       "       [-0.5, -0.5, -0.5],\n",
       "       [ 0.5, -0.5, -0.5]])"
      ]
     },
     "execution_count": 2,
     "metadata": {},
     "output_type": "execute_result"
    }
   ],
   "source": [
    "coordinates"
   ]
  },
  {
   "cell_type": "markdown",
   "metadata": {},
   "source": [
    "#  Resubmit proposal with class imbalances"
   ]
  },
  {
   "cell_type": "markdown",
   "metadata": {},
   "source": [
    "# Evaluate class balance for ModelNet10 and ModelNet40\n",
    "\n",
    "finish once ModelNet40 (HUGE) is done downloading"
   ]
  },
  {
   "cell_type": "code",
   "execution_count": 8,
   "metadata": {
    "collapsed": true
   },
   "outputs": [
    {
     "name": "stdout",
     "output_type": "stream",
     "text": [
      "woops!:\n",
      "['.', 'ModelNet10', '']\n",
      "woops!:\n",
      "['.', 'ModelNet10', 'bed']\n",
      "woops!:\n",
      "['.', 'ModelNet10', 'chair']\n",
      "woops!:\n",
      "['.', 'ModelNet10', 'toilet']\n"
     ]
    }
   ],
   "source": [
    "from count_files import make_file_description_data_frame\n",
    "\n",
    "df = make_file_description_data_frame()"
   ]
  },
  {
   "cell_type": "code",
   "execution_count": 44,
   "metadata": {},
   "outputs": [
    {
     "data": {
      "text/plain": [
       "<matplotlib.axes._subplots.AxesSubplot at 0x11173b898>"
      ]
     },
     "execution_count": 44,
     "metadata": {},
     "output_type": "execute_result"
    },
    {
     "data": {
      "image/png": "[encoded data removed]",
      "text/plain": [
       "<matplotlib.figure.Figure at 0x11020e9e8>"
      ]
     },
     "metadata": {},
     "output_type": "display_data"
    }
   ],
   "source": [
    "a = df.groupby(['class', 'type'])['type'].count()\n",
    "a.unstack().plot(kind='bar', title='ModelNet10')"
   ]
  },
  {
   "cell_type": "code",
   "execution_count": 43,
   "metadata": {},
   "outputs": [
    {
     "data": {
      "text/html": [
       "<div>\n",
       "<style scoped>\n",
       "    .dataframe tbody tr th:only-of-type {\n",
       "        vertical-align: middle;\n",
       "    }\n",
       "\n",
       "    .dataframe tbody tr th {\n",
       "        vertical-align: top;\n",
       "    }\n",
       "\n",
       "    .dataframe thead th {\n",
       "        text-align: right;\n",
       "    }\n",
       "</style>\n",
       "<table border=\"1\" class=\"dataframe\">\n",
       "  <thead>\n",
       "    <tr style=\"text-align: right;\">\n",
       "      <th>type</th>\n",
       "      <th>test</th>\n",
       "      <th>train</th>\n",
       "    </tr>\n",
       "    <tr>\n",
       "      <th>class</th>\n",
       "      <th></th>\n",
       "      <th></th>\n",
       "    </tr>\n",
       "  </thead>\n",
       "  <tbody>\n",
       "    <tr>\n",
       "      <th>bathtub</th>\n",
       "      <td>50</td>\n",
       "      <td>106</td>\n",
       "    </tr>\n",
       "    <tr>\n",
       "      <th>bed</th>\n",
       "      <td>100</td>\n",
       "      <td>515</td>\n",
       "    </tr>\n",
       "    <tr>\n",
       "      <th>chair</th>\n",
       "      <td>100</td>\n",
       "      <td>889</td>\n",
       "    </tr>\n",
       "    <tr>\n",
       "      <th>desk</th>\n",
       "      <td>86</td>\n",
       "      <td>200</td>\n",
       "    </tr>\n",
       "    <tr>\n",
       "      <th>dresser</th>\n",
       "      <td>86</td>\n",
       "      <td>200</td>\n",
       "    </tr>\n",
       "    <tr>\n",
       "      <th>monitor</th>\n",
       "      <td>100</td>\n",
       "      <td>465</td>\n",
       "    </tr>\n",
       "    <tr>\n",
       "      <th>night_stand</th>\n",
       "      <td>86</td>\n",
       "      <td>200</td>\n",
       "    </tr>\n",
       "    <tr>\n",
       "      <th>sofa</th>\n",
       "      <td>100</td>\n",
       "      <td>680</td>\n",
       "    </tr>\n",
       "    <tr>\n",
       "      <th>table</th>\n",
       "      <td>100</td>\n",
       "      <td>392</td>\n",
       "    </tr>\n",
       "    <tr>\n",
       "      <th>toilet</th>\n",
       "      <td>100</td>\n",
       "      <td>344</td>\n",
       "    </tr>\n",
       "  </tbody>\n",
       "</table>\n",
       "</div>"
      ],
      "text/plain": [
       "type         test  train\n",
       "class                   \n",
       "bathtub        50    106\n",
       "bed           100    515\n",
       "chair         100    889\n",
       "desk           86    200\n",
       "dresser        86    200\n",
       "monitor       100    465\n",
       "night_stand    86    200\n",
       "sofa          100    680\n",
       "table         100    392\n",
       "toilet        100    344"
      ]
     },
     "execution_count": 43,
     "metadata": {},
     "output_type": "execute_result"
    }
   ],
   "source": [
    "a.unstack()"
   ]
  },
  {
   "cell_type": "code",
   "execution_count": null,
   "metadata": {},
   "outputs": [],
   "source": []
  },
  {
   "cell_type": "code",
   "execution_count": 7,
   "metadata": {},
   "outputs": [],
   "source": [
    "a.to_clipboard()"
   ]
  },
  {
   "cell_type": "markdown",
   "metadata": {},
   "source": [
    "# Visualize *.off point cloud"
   ]
  },
  {
   "cell_type": "code",
   "execution_count": 80,
   "metadata": {},
   "outputs": [],
   "source": [
    "with open(os.path.join('./ModelNet10/', paths[0]['class'], paths[0]['type'], paths[0]['file']), 'r') as f:\n",
    "    thing = f.readlines()"
   ]
  },
  {
   "cell_type": "code",
   "execution_count": null,
   "metadata": {},
   "outputs": [],
   "source": []
  },
  {
   "cell_type": "code",
   "execution_count": null,
   "metadata": {},
   "outputs": [],
   "source": []
  },
  {
   "cell_type": "code",
   "execution_count": null,
   "metadata": {},
   "outputs": [],
   "source": []
  },
  {
   "cell_type": "code",
   "execution_count": null,
   "metadata": {},
   "outputs": [],
   "source": []
  },
  {
   "cell_type": "code",
   "execution_count": null,
   "metadata": {},
   "outputs": [],
   "source": []
  },
  {
   "cell_type": "code",
   "execution_count": null,
   "metadata": {},
   "outputs": [],
   "source": []
  }
 ],
 "metadata": {
  "kernelspec": {
   "display_name": "Python 3",
   "language": "python",
   "name": "python3"
  },
  "language_info": {
   "codemirror_mode": {
    "name": "ipython",
    "version": 3
   },
   "file_extension": ".py",
   "mimetype": "text/x-python",
   "name": "python",
   "nbconvert_exporter": "python",
   "pygments_lexer": "ipython3",
   "version": "3.6.4"
  }
 },
 "nbformat": 4,
 "nbformat_minor": 2
}
