{
 "cells": [
  {
   "cell_type": "markdown",
   "metadata": {},
   "source": [
    "# Content Based 3d Model Retrieval"
   ]
  },
  {
   "cell_type": "markdown",
   "metadata": {},
   "source": [
    "###  feedback to be addressed from udacity"
   ]
  },
  {
   "cell_type": "markdown",
   "metadata": {},
   "source": [
    "\n",
    "The dataset(s) and/or input(s) to be used in the project are thoroughly described. Information such as how the dataset or input is (was) obtained, and the characteristics of the dataset or input, should be included. It should be clear how the dataset(s) or input(s) will be used in the project and whether their use is appropriate given the context of the problem.\n",
    "\n",
    "Could you briefly discuss the nature of this dataset? How many objects are contained? What is the distribution of labels?"
   ]
  },
  {
   "cell_type": "markdown",
   "metadata": {},
   "source": [
    "Look at the data. Taken from: http://modelnet.cs.princeton.edu/\n",
    "\n",
    "This data is in Object File Format (.off) There exist matlab tools to process these. Are they available in python? "
   ]
  },
  {
   "cell_type": "markdown",
   "metadata": {},
   "source": [
    "##### off files are ascii\n",
    "\n",
    "make sure when writing you use\n",
    "https://stackoverflow.com/questions/46850103/writing-to-files-in-ascii-with-python3-not-utf8"
   ]
  },
  {
   "cell_type": "markdown",
   "metadata": {},
   "source": [
    "### How are voxels counted? \n",
    "http://vision.princeton.edu/projects/2014/3DShapeNets/paper.pdf\n",
    "\n",
    "```\n",
    "To study 3D shape representation, we propose to represent\n",
    "a geometric 3D shape as a probability distribution of\n",
    "binary variables on a 3D voxel grid. Each 3D mesh is represented\n",
    "as a binary tensor: 1 indicates the voxel is inside the\n",
    "mesh surface, and 0 indicates the voxel is outside the mesh\n",
    "(i.e., it is empty space). The grid size in our experiments is\n",
    "30 × 30 × 30.\n",
    "```"
   ]
  },
  {
   "cell_type": "code",
   "execution_count": 1,
   "metadata": {},
   "outputs": [],
   "source": [
    "import matplotlib.pyplot as plt\n",
    "import numpy as np\n",
    "\n",
    "from off_utils import (check_header,\n",
    "                       parse_vertices_faces_edges,\n",
    "                       load_off_file,\n",
    "                       parse_coordinates,\n",
    "                       parse_face_indeces)\n",
    "\n",
    "a = load_off_file('sample.off')\n",
    "coordinates = parse_coordinates(a)\n",
    "face_indeces = parse_face_indeces(a)"
   ]
  },
  {
   "cell_type": "code",
   "execution_count": 2,
   "metadata": {},
   "outputs": [
    {
     "data": {
      "text/plain": [
       "array([[-0.5, -0.5,  0.5],\n",
       "       [ 0.5, -0.5,  0.5],\n",
       "       [-0.5,  0.5,  0.5],\n",
       "       [ 0.5,  0.5,  0.5],\n",
       "       [-0.5,  0.5, -0.5],\n",
       "       [ 0.5,  0.5, -0.5],\n",
       "       [-0.5, -0.5, -0.5],\n",
       "       [ 0.5, -0.5, -0.5]])"
      ]
     },
     "execution_count": 2,
     "metadata": {},
     "output_type": "execute_result"
    }
   ],
   "source": [
    "coordinates"
   ]
  },
  {
   "cell_type": "markdown",
   "metadata": {},
   "source": [
    "quickly count files in train and others"
   ]
  },
  {
   "cell_type": "code",
   "execution_count": 60,
   "metadata": {
    "collapsed": true
   },
   "outputs": [
    {
     "name": "stdout",
     "output_type": "stream",
     "text": [
      "woops!:\n",
      "['.', 'ModelNet10', '']\n",
      "woops!:\n",
      "['.', 'ModelNet10', 'bed']\n",
      "woops!:\n",
      "['.', 'ModelNet10', 'chair']\n",
      "woops!:\n",
      "['.', 'ModelNet10', 'toilet']\n"
     ]
    }
   ],
   "source": [
    "import os\n",
    "import pandas as pd\n",
    "\n",
    "skip_files = ['.DS_Store', 'README.txt', '__MACOSX']\n",
    "\n",
    "# traverse root directory, and list directories as dirs and files as files\n",
    "paths = []\n",
    "for root, dirs, files in os.walk(\"./ModelNet10/\"):\n",
    "    path = root.split(os.sep)\n",
    "    for file in files:\n",
    "        class_type = path[2]\n",
    "        try:\n",
    "            # This could be better, but this isn't very important right now\n",
    "            sample_type = path[3]\n",
    "        except:\n",
    "            print(\"woops!:\")\n",
    "            print(path)\n",
    "            break\n",
    "        paths.append({\n",
    "            'class': class_type,\n",
    "            'type': sample_type,\n",
    "            'file': file\n",
    "        }) if not file in skip_files else None"
   ]
  },
  {
   "cell_type": "markdown",
   "metadata": {},
   "source": [
    "#  Resubmit proposal with class imbalances"
   ]
  },
  {
   "cell_type": "markdown",
   "metadata": {},
   "source": [
    "# Evaluate class balance for ModelNet10 and ModelNet40"
   ]
  },
  {
   "cell_type": "code",
   "execution_count": null,
   "metadata": {},
   "outputs": [],
   "source": [
    "from count_files import make_file_description_data_frame\n",
    "\n",
    "df = make_file_description_data_frame()"
   ]
  },
  {
   "cell_type": "code",
   "execution_count": 3,
   "metadata": {},
   "outputs": [
    {
     "data": {
      "text/plain": [
       "chair          989\n",
       "sofa           780\n",
       "bed            615\n",
       "monitor        565\n",
       "table          492\n",
       "toilet         444\n",
       "dresser        286\n",
       "desk           286\n",
       "night_stand    286\n",
       "bathtub        156\n",
       "Name: class, dtype: int64"
      ]
     },
     "execution_count": 3,
     "metadata": {},
     "output_type": "execute_result"
    }
   ],
   "source": [
    "df['class'].value_counts()"
   ]
  },
  {
   "cell_type": "code",
   "execution_count": 6,
   "metadata": {},
   "outputs": [],
   "source": [
    "a = df.groupby(['class', 'type']).count()"
   ]
  },
  {
   "cell_type": "code",
   "execution_count": 7,
   "metadata": {},
   "outputs": [],
   "source": [
    "a.to_clipboard()"
   ]
  },
  {
   "cell_type": "markdown",
   "metadata": {},
   "source": [
    "# Visualize *.off point cloud"
   ]
  },
  {
   "cell_type": "code",
   "execution_count": 80,
   "metadata": {},
   "outputs": [],
   "source": [
    "with open(os.path.join('./ModelNet10/', paths[0]['class'], paths[0]['type'], paths[0]['file']), 'r') as f:\n",
    "    thing = f.readlines()"
   ]
  },
  {
   "cell_type": "code",
   "execution_count": 4,
   "metadata": {},
   "outputs": [
    {
     "ename": "NameError",
     "evalue": "name 'thing' is not defined",
     "output_type": "error",
     "traceback": [
      "\u001b[0;31m---------------------------------------------------------------------------\u001b[0m",
      "\u001b[0;31mNameError\u001b[0m                                 Traceback (most recent call last)",
      "\u001b[0;32m<ipython-input-4-5d9920b350b1>\u001b[0m in \u001b[0;36m<module>\u001b[0;34m()\u001b[0m\n\u001b[0;32m----> 1\u001b[0;31m \u001b[0;32mdel\u001b[0m \u001b[0mthing\u001b[0m\u001b[0;34m\u001b[0m\u001b[0m\n\u001b[0m",
      "\u001b[0;31mNameError\u001b[0m: name 'thing' is not defined"
     ]
    }
   ],
   "source": [
    "del thing"
   ]
  },
  {
   "cell_type": "code",
   "execution_count": null,
   "metadata": {},
   "outputs": [],
   "source": []
  },
  {
   "cell_type": "code",
   "execution_count": null,
   "metadata": {},
   "outputs": [],
   "source": []
  },
  {
   "cell_type": "code",
   "execution_count": null,
   "metadata": {},
   "outputs": [],
   "source": []
  },
  {
   "cell_type": "code",
   "execution_count": null,
   "metadata": {},
   "outputs": [],
   "source": []
  },
  {
   "cell_type": "code",
   "execution_count": null,
   "metadata": {},
   "outputs": [],
   "source": []
  },
  {
   "cell_type": "code",
   "execution_count": null,
   "metadata": {},
   "outputs": [],
   "source": []
  },
  {
   "cell_type": "code",
   "execution_count": null,
   "metadata": {},
   "outputs": [],
   "source": []
  },
  {
   "cell_type": "code",
   "execution_count": null,
   "metadata": {},
   "outputs": [],
   "source": []
  },
  {
   "cell_type": "code",
   "execution_count": null,
   "metadata": {},
   "outputs": [],
   "source": []
  },
  {
   "cell_type": "code",
   "execution_count": null,
   "metadata": {},
   "outputs": [],
   "source": []
  },
  {
   "cell_type": "code",
   "execution_count": null,
   "metadata": {},
   "outputs": [],
   "source": []
  },
  {
   "cell_type": "code",
   "execution_count": null,
   "metadata": {},
   "outputs": [],
   "source": []
  }
 ],
 "metadata": {
  "kernelspec": {
   "display_name": "deep_learning_mabs_python3",
   "language": "python",
   "name": ".env"
  },
  "language_info": {
   "codemirror_mode": {
    "name": "ipython",
    "version": 3
   },
   "file_extension": ".py",
   "mimetype": "text/x-python",
   "name": "python",
   "nbconvert_exporter": "python",
   "pygments_lexer": "ipython3",
   "version": "3.6.4"
  }
 },
 "nbformat": 4,
 "nbformat_minor": 2
}
