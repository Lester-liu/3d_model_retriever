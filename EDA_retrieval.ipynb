{
 "cells": [
  {
   "cell_type": "code",
   "execution_count": 1,
   "metadata": {
    "collapsed": true
   },
   "outputs": [
    {
     "name": "stderr",
     "output_type": "stream",
     "text": [
      "/Users/ryan/repos/3d_model_retriever/.env/lib/python3.6/site-packages/h5py/__init__.py:36: FutureWarning: Conversion of the second argument of issubdtype from `float` to `np.floating` is deprecated. In future, it will be treated as `np.float64 == np.dtype(float).type`.\n",
      "  from ._conv import register_converters as _register_converters\n",
      "Using TensorFlow backend.\n"
     ]
    }
   ],
   "source": [
    "import numpy as np\n",
    "import scipy as sp\n",
    "# from keras import layers, models, optimizers\n",
    "from keras.callbacks import TensorBoard, ModelCheckpoint\n",
    "from keras.layers import Conv3D, Dense, Reshape, Add, Input\n",
    "from keras.models import Sequential, Model\n",
    "from keras.optimizers import SGD, Adam\n",
    "from keras import backend as K\n",
    "from keras.utils import to_categorical, multi_gpu_model\n",
    "from keras.utils.vis_utils import plot_model\n",
    "import matplotlib.pyplot as plt\n",
    "from PIL import Image\n",
    "import tensorflow as tf\n",
    "\n",
    "from capsulenet import margin_loss\n",
    "from capsulelayers import CapsuleLayer, PrimaryCap, Length, Mask\n",
    "\n",
    "from data import load_data\n",
    "from plots import (plot_vox,\n",
    "                   plot_capsnet_rotation_issue,\n",
    "                   plot_rotation_issue,\n",
    "                   plot_shaded,\n",
    "                   plot_dots,\n",
    "                   plot_recons)\n",
    "from utils import upsample_classes, stratified_shuffle"
   ]
  },
  {
   "cell_type": "code",
   "execution_count": 2,
   "metadata": {},
   "outputs": [],
   "source": [
    "(x_train, y_train), (x_test, y_test), target_names = load_data('./ModelNet10/')\n",
    "x_train, y_train, x_val, y_val = stratified_shuffle(x_train, y_train, test_size=.1)\n",
    "x_train, y_train = upsample_classes(x_train, y_train)\n",
    "y_train = to_categorical(y_train)\n",
    "y_test = to_categorical(y_test)\n",
    "y_val = to_categorical(y_val)"
   ]
  },
  {
   "cell_type": "code",
   "execution_count": 3,
   "metadata": {},
   "outputs": [
    {
     "name": "stdout",
     "output_type": "stream",
     "text": [
      "WARNING:tensorflow:From /Users/ryan/repos/3d_model_retriever/capsulelayers.py:137: calling softmax (from tensorflow.python.ops.nn_ops) with dim is deprecated and will be removed in a future version.\n",
      "Instructions for updating:\n",
      "dim is deprecated, use axis instead\n"
     ]
    }
   ],
   "source": [
    "n_class = y_test.shape[1]\n",
    "input_shape = (30, 30, 30, 1)\n",
    "\n",
    "dim_sub_capsule = 16\n",
    "dim_primary_capsule = 8\n",
    "n_channels = 4\n",
    "primary_cap_kernel_size = 9\n",
    "\n",
    "first_layer_kernel_size = 9\n",
    "conv_layer_filters = 48\n",
    "\n",
    "\n",
    "##### If using multiple GPUS ##########\n",
    "# with tf.device(\"/cpu:0\"):\n",
    "x = Input(shape=(30, 30, 30, 1))\n",
    "\n",
    "\n",
    "conv1 = Conv3D(filters=conv_layer_filters, kernel_size=first_layer_kernel_size, strides=1,\n",
    "               padding='valid', activation='relu', name='conv1')(x)\n",
    "\n",
    "\n",
    "# primarycaps = PrimaryCap(conv1, dim_capsule=12, n_channels=32,\n",
    "#                          kernel_size=9, strides=2, padding='valid')\n",
    "\n",
    "primarycaps = PrimaryCap(conv1, dim_capsule=dim_primary_capsule, n_channels=n_channels,\n",
    "                         kernel_size=primary_cap_kernel_size, strides=2, padding='valid')\n",
    "\n",
    "sub_caps = CapsuleLayer(num_capsule=n_class, dim_capsule=dim_sub_capsule,\n",
    "                         routings=3, name='sub_caps')(primarycaps)\n",
    "\n",
    "out_caps = Length(name='capsnet')(sub_caps)\n",
    "\n",
    "y = Input(shape=(n_class,))\n",
    "masked_by_y = Mask()([sub_caps, y])\n",
    "\n",
    "masked = Mask()(sub_caps)\n",
    "\n",
    "decoder = Sequential(name='decoder')\n",
    "decoder.add(Dense(512, activation='relu',\n",
    "                  input_dim=dim_sub_capsule*n_class))\n",
    "# decoder.add(Dense(64, activation='relu'))\n",
    "decoder.add(Dense(1024, activation='relu'))\n",
    "decoder.add(Dense(np.prod(input_shape), activation='sigmoid'))\n",
    "\n",
    "decoder.add(Reshape(target_shape=input_shape, name='out_recon'))\n",
    "\n",
    "train_model = Model([x, y], [out_caps, decoder(masked_by_y)])\n",
    "\n",
    "\n",
    "eval_model = Model(x, [out_caps, decoder(masked)])\n",
    "similarity_model = Model(x, [])\n",
    "\n",
    "### manipulate model\n",
    "noise = Input(shape=(n_class, dim_sub_capsule))\n",
    "noised_sub_caps = Add()([sub_caps, noise])\n",
    "masked_noised_y = Mask()([noised_sub_caps, y])\n",
    "manipulate_model = Model([x, y, noise], decoder(masked_noised_y))"
   ]
  },
  {
   "cell_type": "code",
   "execution_count": null,
   "metadata": {
    "collapsed": true
   },
   "outputs": [
    {
     "name": "stdout",
     "output_type": "stream",
     "text": [
      "Train on 8000 samples, validate on 399 samples\n",
      "Epoch 1/5\n",
      "  32/8000 [..............................] - ETA: 11:39:43 - loss: 0.8200 - capsnet_loss: 0.8100 - decoder_loss: 0.2500 - capsnet_acc: 0.0625"
     ]
    }
   ],
   "source": [
    "NUM_EPOCHS = 5\n",
    "INIT_LR = 0.001\n",
    "lam_recon = .04\n",
    "optimizer = Adam(lr=INIT_LR)\n",
    "\n",
    "train_model.compile(optimizer,\n",
    "                    loss=[margin_loss, 'mse'],\n",
    "                    loss_weights=[1., lam_recon],\n",
    "                    metrics={'capsnet': 'accuracy'})\n",
    "\n",
    "checkpointer = ModelCheckpoint(filepath='example.hdf5',\n",
    "                               verbose=1, save_best_only=True)\n",
    "tb = TensorBoard(log_dir='./capsnet_final.log/')\n",
    "\n",
    "# train_model.fit([x_train, y_train], [y_train, x_train],\n",
    "#                 batch_size=32, epochs=NUM_EPOCHS,\n",
    "#                 validation_data=[[x_val, y_val], [y_val, x_val]],\n",
    "# #                 callbacks=[tb, checkpointer])\n",
    "#                 callbacks=[tb, checkpointer])"
   ]
  },
  {
   "cell_type": "code",
   "execution_count": null,
   "metadata": {},
   "outputs": [],
   "source": [
    "y_pred, x_recon = eval_model.predict(x_test)\n",
    "\n",
    "print('Test acc:', np.sum(np.argmax(y_pred, 1) == np.argmax(y_test, 1))/y_test.shape[0])"
   ]
  },
  {
   "cell_type": "code",
   "execution_count": null,
   "metadata": {},
   "outputs": [],
   "source": []
  },
  {
   "cell_type": "code",
   "execution_count": null,
   "metadata": {},
   "outputs": [],
   "source": []
  },
  {
   "cell_type": "code",
   "execution_count": null,
   "metadata": {},
   "outputs": [],
   "source": []
  },
  {
   "cell_type": "code",
   "execution_count": null,
   "metadata": {},
   "outputs": [],
   "source": []
  },
  {
   "cell_type": "code",
   "execution_count": null,
   "metadata": {},
   "outputs": [],
   "source": []
  },
  {
   "cell_type": "code",
   "execution_count": null,
   "metadata": {},
   "outputs": [],
   "source": []
  },
  {
   "cell_type": "code",
   "execution_count": null,
   "metadata": {},
   "outputs": [],
   "source": []
  },
  {
   "cell_type": "code",
   "execution_count": null,
   "metadata": {},
   "outputs": [],
   "source": []
  },
  {
   "cell_type": "code",
   "execution_count": null,
   "metadata": {},
   "outputs": [],
   "source": []
  },
  {
   "cell_type": "code",
   "execution_count": null,
   "metadata": {},
   "outputs": [],
   "source": []
  },
  {
   "cell_type": "code",
   "execution_count": null,
   "metadata": {},
   "outputs": [],
   "source": []
  }
 ],
 "metadata": {
  "kernelspec": {
   "display_name": "3d-model-retrieval",
   "language": "python",
   "name": "3d-model-retrieval"
  },
  "language_info": {
   "codemirror_mode": {
    "name": "ipython",
    "version": 3
   },
   "file_extension": ".py",
   "mimetype": "text/x-python",
   "name": "python",
   "nbconvert_exporter": "python",
   "pygments_lexer": "ipython3",
   "version": "3.6.4"
  }
 },
 "nbformat": 4,
 "nbformat_minor": 2
}
