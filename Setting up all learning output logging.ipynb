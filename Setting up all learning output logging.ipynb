{
 "cells": [
  {
   "cell_type": "markdown",
   "metadata": {},
   "source": [
    "# reprocess"
   ]
  },
  {
   "cell_type": "markdown",
   "metadata": {},
   "source": [
    "what was saved successfully"
   ]
  },
  {
   "cell_type": "code",
   "execution_count": 5,
   "metadata": {},
   "outputs": [],
   "source": [
    "NAME = 'results/'"
   ]
  },
  {
   "cell_type": "code",
   "execution_count": 10,
   "metadata": {},
   "outputs": [],
   "source": [
    "import os\n",
    "\n",
    "import os\n",
    "\n",
    "things = []\n",
    "for root, subdirs, files in os.walk(NAME):\n",
    "    subdirs[:] = sorted(subdirs) # sorts the subdirs\n",
    "    subdirs[:] = [d for d in subdirs if not d.startswith('tmp')] # remove some subdirs\n",
    "    things.append((root, subdirs))"
   ]
  },
  {
   "cell_type": "code",
   "execution_count": 19,
   "metadata": {},
   "outputs": [],
   "source": [
    "one_dir = os.listdir(NAME)[0]"
   ]
  },
  {
   "cell_type": "code",
   "execution_count": 23,
   "metadata": {},
   "outputs": [],
   "source": [
    "model_folder = os.listdir(os.path.join(NAME, one_dir))"
   ]
  },
  {
   "cell_type": "code",
   "execution_count": 31,
   "metadata": {},
   "outputs": [
    {
     "data": {
      "text/plain": [
       "['y_pred.npy',\n",
       " 'TSNE.png',\n",
       " 'filter_plots',\n",
       " 'details.csv',\n",
       " 'precision_recall_plots',\n",
       " 'latent_space.npy',\n",
       " 'modelsummary.txt',\n",
       " 'mean_average_precision.png',\n",
       " 'Confusion_matrix.png',\n",
       " 'models']"
      ]
     },
     "execution_count": 31,
     "metadata": {},
     "output_type": "execute_result"
    }
   ],
   "source": [
    "model_folder"
   ]
  },
  {
   "cell_type": "code",
   "execution_count": 34,
   "metadata": {},
   "outputs": [
    {
     "data": {
      "text/plain": [
       "True"
      ]
     },
     "execution_count": 34,
     "metadata": {},
     "output_type": "execute_result"
    }
   ],
   "source": [
    "os.path.isfile(os.path.join(NAME, one_dir, model_folder[0]))"
   ]
  },
  {
   "cell_type": "code",
   "execution_count": 17,
   "metadata": {},
   "outputs": [
    {
     "data": {
      "text/plain": [
       "('results/',\n",
       " ['.ipynb_checkpoints',\n",
       "  'ModelNet10_base_model_acc_072467_map_059002',\n",
       "  'ModelNet10_base_model_acc_08304_map_072242',\n",
       "  'ModelNet10_base_model_acc_08348_map_074217',\n",
       "  'ModelNet10_base_model_acc_083921_map_075976',\n",
       "  'ModelNet10_base_model_acc_085022_map_075254',\n",
       "  'ModelNet10_base_model_acc_085683_map_079138',\n",
       "  'ModelNet10_base_model_acc_087445_map_081544',\n",
       "  'ModelNet10_base_model_acc_087775_map_08039',\n",
       "  'ModelNet10_base_model_acc_087775_map_080771',\n",
       "  'ModelNet10_base_model_acc_087885_map_081921',\n",
       "  'ModelNet10_base_model_acc_088436_map_082462',\n",
       "  'ModelNet40_base_model_acc_004052_map_007831',\n",
       "  'ModelNet40_base_model_acc_061912_map_041612',\n",
       "  'ModelNet40_base_model_acc_068882_map_048273',\n",
       "  'ModelNet40_base_model_acc_073622_map_054835',\n",
       "  'ModelNet40_base_model_acc_073744_map_055776',\n",
       "  'ModelNet40_base_model_acc_075486_map_058689',\n",
       "  'ModelNet40_base_model_acc_076297_map_05917',\n",
       "  'ModelNet40_two_convcaps_layers_acc_007_map_013858'])"
      ]
     },
     "execution_count": 17,
     "metadata": {},
     "output_type": "execute_result"
    }
   ],
   "source": [
    "things[0]"
   ]
  },
  {
   "cell_type": "code",
   "execution_count": null,
   "metadata": {},
   "outputs": [],
   "source": []
  },
  {
   "cell_type": "code",
   "execution_count": null,
   "metadata": {},
   "outputs": [],
   "source": []
  },
  {
   "cell_type": "code",
   "execution_count": null,
   "metadata": {},
   "outputs": [],
   "source": []
  },
  {
   "cell_type": "code",
   "execution_count": null,
   "metadata": {},
   "outputs": [],
   "source": []
  },
  {
   "cell_type": "code",
   "execution_count": null,
   "metadata": {},
   "outputs": [],
   "source": []
  },
  {
   "cell_type": "code",
   "execution_count": null,
   "metadata": {},
   "outputs": [],
   "source": []
  },
  {
   "cell_type": "code",
   "execution_count": null,
   "metadata": {},
   "outputs": [],
   "source": []
  },
  {
   "cell_type": "code",
   "execution_count": null,
   "metadata": {},
   "outputs": [],
   "source": []
  },
  {
   "cell_type": "code",
   "execution_count": null,
   "metadata": {},
   "outputs": [],
   "source": []
  },
  {
   "cell_type": "code",
   "execution_count": null,
   "metadata": {},
   "outputs": [],
   "source": []
  },
  {
   "cell_type": "code",
   "execution_count": null,
   "metadata": {},
   "outputs": [],
   "source": []
  },
  {
   "cell_type": "code",
   "execution_count": null,
   "metadata": {},
   "outputs": [],
   "source": []
  },
  {
   "cell_type": "code",
   "execution_count": null,
   "metadata": {},
   "outputs": [],
   "source": []
  },
  {
   "cell_type": "code",
   "execution_count": null,
   "metadata": {},
   "outputs": [],
   "source": []
  },
  {
   "cell_type": "code",
   "execution_count": null,
   "metadata": {},
   "outputs": [],
   "source": []
  },
  {
   "cell_type": "code",
   "execution_count": null,
   "metadata": {},
   "outputs": [],
   "source": []
  },
  {
   "cell_type": "code",
   "execution_count": null,
   "metadata": {},
   "outputs": [],
   "source": []
  },
  {
   "cell_type": "code",
   "execution_count": null,
   "metadata": {},
   "outputs": [],
   "source": []
  }
 ],
 "metadata": {
  "kernelspec": {
   "display_name": "Environment (conda_tensorflow_p36)",
   "language": "python",
   "name": "conda_tensorflow_p36"
  },
  "language_info": {
   "codemirror_mode": {
    "name": "ipython",
    "version": 3
   },
   "file_extension": ".py",
   "mimetype": "text/x-python",
   "name": "python",
   "nbconvert_exporter": "python",
   "pygments_lexer": "ipython3",
   "version": "3.6.4"
  }
 },
 "nbformat": 4,
 "nbformat_minor": 2
}
